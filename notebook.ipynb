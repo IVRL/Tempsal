{
  "nbformat": 4,
  "nbformat_minor": 0,
  "metadata": {
    "colab": {
      "name": "Blank.ipynb",
      "provenance": []
    },
    "kernelspec": {
      "name": "swift",
      "display_name": "Swift"
    }
  },
  "cells": [
    {
      "cell_type": "markdown",
      "metadata": {
        "id": "r67aNfYc255C"
      },
      "source": [
        "# Blank\n",
        "\n",
        "\n",
        "Blank notebook to run Google colab easily.\n",
        "\n"
      ]
    },
   
    {
      "cell_type": "code",
      "metadata": {
        "id": "OmiNmB4e2z4h"
      },
      "source": [
        "import Plotly\n",
        "\n"
      ],
      "execution_count": null,
      "outputs": []
    }
  ]
}
